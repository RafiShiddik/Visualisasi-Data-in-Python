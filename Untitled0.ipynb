{
  "nbformat": 4,
  "nbformat_minor": 0,
  "metadata": {
    "colab": {
      "provenance": [],
      "authorship_tag": "ABX9TyMs8kK5mIyYc3aoHwvz8evJ",
      "include_colab_link": true
    },
    "kernelspec": {
      "name": "python3",
      "display_name": "Python 3"
    },
    "language_info": {
      "name": "python"
    }
  },
  "cells": [
    {
      "cell_type": "markdown",
      "metadata": {
        "id": "view-in-github",
        "colab_type": "text"
      },
      "source": [
        "<a href=\"https://colab.research.google.com/github/RafiShiddik/Visualisasi-Data-in-Python/blob/main/Untitled0.ipynb\" target=\"_parent\"><img src=\"https://colab.research.google.com/assets/colab-badge.svg\" alt=\"Open In Colab\"/></a>"
      ]
    },
    {
      "cell_type": "code",
      "source": [
        "import pandas as pd\n",
        "import numpy as np\n",
        "import scipy.stats as st"
      ],
      "metadata": {
        "id": "dGbbbadK62pv"
      },
      "execution_count": null,
      "outputs": []
    },
    {
      "cell_type": "code",
      "source": [
        "df = pd.read_csv('e-commerce_example_dataset.csv')"
      ],
      "metadata": {
        "id": "SbBqZopT7TKD"
      },
      "execution_count": null,
      "outputs": []
    },
    {
      "cell_type": "code",
      "source": [
        "?st.ttest_ind"
      ],
      "metadata": {
        "id": "4YQ2CB7W2qcx"
      },
      "execution_count": null,
      "outputs": []
    },
    {
      "cell_type": "code",
      "source": [
        "discount = df[df['discount'] == 'discount']\n",
        "not_discount = df[df['discount'] != 'discount']\n",
        "print(discount.shape)\n",
        "print(not_discount.shape)"
      ],
      "metadata": {
        "colab": {
          "base_uri": "https://localhost:8080/"
        },
        "id": "lcPQc-aJ3J4Y",
        "outputId": "b24768c3-32af-453f-e80d-415e5c07b3b8"
      },
      "execution_count": null,
      "outputs": [
        {
          "output_type": "stream",
          "name": "stdout",
          "text": [
            "(65, 3)\n",
            "(35, 3)\n"
          ]
        }
      ]
    },
    {
      "cell_type": "code",
      "source": [
        "ttest = st.ttest_ind(a = discount['gmv'], b = not_discount['gmv'])\n",
        "ttest.pvalue"
      ],
      "metadata": {
        "colab": {
          "base_uri": "https://localhost:8080/"
        },
        "id": "JC8rAtIy9pZS",
        "outputId": "36fad458-cd2d-4521-b3c5-c02a3f08d92e"
      },
      "execution_count": null,
      "outputs": [
        {
          "output_type": "execute_result",
          "data": {
            "text/plain": [
              "0.0009942306670295464"
            ]
          },
          "metadata": {},
          "execution_count": 31
        }
      ]
    },
    {
      "cell_type": "code",
      "source": [
        "p_value = ttest.pvalue\n",
        "print('p_value :', p_value)\n",
        "if p_value > 0.05:\n",
        "  print('tidak cukup bukti rata-rata gmv discount memiliki nilai yang jauh berbeda signitifkan dengan non discount')\n",
        "else:\n",
        "  print('cukup bukti menyatakan nilai rata-rata gmv discount memiliki nilai yang jauh berbeda siginitifikan dengan non discount')"
      ],
      "metadata": {
        "colab": {
          "base_uri": "https://localhost:8080/"
        },
        "id": "NTNLB2K3Fp6S",
        "outputId": "1e07a762-889a-4fe5-e1b9-18e73aae6945"
      },
      "execution_count": null,
      "outputs": [
        {
          "output_type": "stream",
          "name": "stdout",
          "text": [
            "p_value : 0.0009942306670295464\n",
            "cukup bukti menyatakan nilai rata-rata gmv discount memiliki nilai yang jauh berbeda siginitifikan dengan non discount\n"
          ]
        }
      ]
    },
    {
      "cell_type": "code",
      "source": [
        "df2 = pd.read_csv('Iris.csv')"
      ],
      "metadata": {
        "id": "EjltcwsrHvlQ",
        "colab": {
          "base_uri": "https://localhost:8080/",
          "height": 141
        },
        "outputId": "56047e8c-6562-4143-9c01-512b8ab6505b"
      },
      "execution_count": null,
      "outputs": [
        {
          "output_type": "error",
          "ename": "NameError",
          "evalue": "name 'pd' is not defined",
          "traceback": [
            "\u001b[0;31m---------------------------------------------------------------------------\u001b[0m",
            "\u001b[0;31mNameError\u001b[0m                                 Traceback (most recent call last)",
            "\u001b[0;32m<ipython-input-5-2c49ab905ba8>\u001b[0m in \u001b[0;36m<cell line: 0>\u001b[0;34m()\u001b[0m\n\u001b[0;32m----> 1\u001b[0;31m \u001b[0mdf2\u001b[0m \u001b[0;34m=\u001b[0m \u001b[0mpd\u001b[0m\u001b[0;34m.\u001b[0m\u001b[0mread_csv\u001b[0m\u001b[0;34m(\u001b[0m\u001b[0;34m'Iris.csv'\u001b[0m\u001b[0;34m)\u001b[0m\u001b[0;34m\u001b[0m\u001b[0;34m\u001b[0m\u001b[0m\n\u001b[0m",
            "\u001b[0;31mNameError\u001b[0m: name 'pd' is not defined"
          ]
        }
      ]
    },
    {
      "cell_type": "code",
      "source": [
        "df_versicolor = df2[df2['Species']=='Iris-versicolor']\n",
        "df_setosa = df2[df2['Species']=='Iris-setosa']\n",
        "df_virginica = df2[df2['Species']=='Iris-virginica']"
      ],
      "metadata": {
        "id": "iUkQUBpjH8BD"
      },
      "execution_count": null,
      "outputs": []
    },
    {
      "cell_type": "code",
      "source": [
        "anova_test = st.f_oneway(df_versicolor['SepalWidthCm'],\n",
        "                          df_setosa['SepalWidthCm'],\n",
        "                          df_virginica['SepalWidthCm'],\n",
        "                          )"
      ],
      "metadata": {
        "id": "SsdSNQySI0Mx"
      },
      "execution_count": null,
      "outputs": []
    },
    {
      "cell_type": "code",
      "source": [
        "print(anova_test.pvalue)"
      ],
      "metadata": {
        "colab": {
          "base_uri": "https://localhost:8080/"
        },
        "id": "RGdoVoNoJcAZ",
        "outputId": "a2330220-8fac-4c86-ebae-f84f4ba2b887"
      },
      "execution_count": null,
      "outputs": [
        {
          "output_type": "stream",
          "name": "stdout",
          "text": [
            "1.3279165184572242e-16\n"
          ]
        }
      ]
    },
    {
      "cell_type": "code",
      "source": [
        "if anova_test.pvalue>0.05:\n",
        "  print('Species memiliki rata-rata SepalWidthCm yang sama')\n",
        "else:\n",
        "    print('Species emiliki rata-rata SepalWidthCm yang berbeda secara signitifikan')"
      ],
      "metadata": {
        "colab": {
          "base_uri": "https://localhost:8080/"
        },
        "id": "V7hUwjrHNIcN",
        "outputId": "33b92305-5913-464f-c2eb-14843d7d122e"
      },
      "execution_count": null,
      "outputs": [
        {
          "output_type": "stream",
          "name": "stdout",
          "text": [
            "Species emiliki rata-rata SepalWidthCm yang berbeda secara signitifikan\n"
          ]
        }
      ]
    },
    {
      "cell_type": "code",
      "source": [
        "df2.groupby(['Species'])['SepalWidthCm'].mean()"
      ],
      "metadata": {
        "colab": {
          "base_uri": "https://localhost:8080/",
          "height": 210
        },
        "id": "42rMG5XHOJv5",
        "outputId": "622bc02d-acf3-46df-c267-57b95db96431"
      },
      "execution_count": null,
      "outputs": [
        {
          "output_type": "execute_result",
          "data": {
            "text/plain": [
              "Species\n",
              "Iris-setosa        3.418\n",
              "Iris-versicolor    2.770\n",
              "Iris-virginica     2.974\n",
              "Name: SepalWidthCm, dtype: float64"
            ],
            "text/html": [
              "<div>\n",
              "<style scoped>\n",
              "    .dataframe tbody tr th:only-of-type {\n",
              "        vertical-align: middle;\n",
              "    }\n",
              "\n",
              "    .dataframe tbody tr th {\n",
              "        vertical-align: top;\n",
              "    }\n",
              "\n",
              "    .dataframe thead th {\n",
              "        text-align: right;\n",
              "    }\n",
              "</style>\n",
              "<table border=\"1\" class=\"dataframe\">\n",
              "  <thead>\n",
              "    <tr style=\"text-align: right;\">\n",
              "      <th></th>\n",
              "      <th>SepalWidthCm</th>\n",
              "    </tr>\n",
              "    <tr>\n",
              "      <th>Species</th>\n",
              "      <th></th>\n",
              "    </tr>\n",
              "  </thead>\n",
              "  <tbody>\n",
              "    <tr>\n",
              "      <th>Iris-setosa</th>\n",
              "      <td>3.418</td>\n",
              "    </tr>\n",
              "    <tr>\n",
              "      <th>Iris-versicolor</th>\n",
              "      <td>2.770</td>\n",
              "    </tr>\n",
              "    <tr>\n",
              "      <th>Iris-virginica</th>\n",
              "      <td>2.974</td>\n",
              "    </tr>\n",
              "  </tbody>\n",
              "</table>\n",
              "</div><br><label><b>dtype:</b> float64</label>"
            ]
          },
          "metadata": {},
          "execution_count": 67
        }
      ]
    }
  ]
}